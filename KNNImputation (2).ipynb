{
  "nbformat": 4,
  "nbformat_minor": 0,
  "metadata": {
    "colab": {
      "name": "KNNImputation.ipynb",
      "provenance": [],
      "collapsed_sections": []
    },
    "kernelspec": {
      "name": "python3",
      "display_name": "Python 3"
    }
  },
  "cells": [
    {
      "cell_type": "code",
      "metadata": {
        "id": "P1VEnn97s3PN"
      },
      "source": [
        "import numpy as np\r\n",
        "import pandas as pd\r\n",
        "from sklearn.model_selection import train_test_split\r\n",
        "from sklearn.impute import KNNImputer\r\n",
        "from sklearn.metrics import accuracy_score, mean_squared_error\r\n",
        "from sklearn import preprocessing\r\n",
        "from sklearn.preprocessing import OneHotEncoder\r\n",
        "from sklearn.model_selection import cross_val_score\r\n",
        "from sklearn.model_selection import RepeatedStratifiedKFold\r\n",
        "from sklearn.pipeline import Pipeline"
      ],
      "execution_count": null,
      "outputs": []
    },
    {
      "cell_type": "code",
      "metadata": {
        "id": "fDVKkWhWAL4U"
      },
      "source": [
        "data = pd.read_csv('part_corrupt.csv',index_col=0)\r\n",
        "df = data[['P_PARTKEY','P_SIZE','P_RETAILPRICE','P_BRAND']]\r\n",
        "\r\n",
        "data_org = pd.read_csv('part_org.csv',index_col=0)\r\n",
        "df_org = data_org[['P_PARTKEY','P_SIZE','P_RETAILPRICE','P_BRAND']]"
      ],
      "execution_count": null,
      "outputs": []
    },
    {
      "cell_type": "code",
      "metadata": {
        "id": "ttUpCS10fkdg"
      },
      "source": [
        "#Get categorical columns by checking if dtype is object \r\n",
        "def separate_columns(data):\r\n",
        "  dataTypeDict = dict(data.dtypes)\r\n",
        "  print(\"All columns : \",dataTypeDict)\r\n",
        "  categorical_cols = list()\r\n",
        "  numerical_cols = list()\r\n",
        "  for i in dataTypeDict:\r\n",
        "    if dataTypeDict[i] == object:\r\n",
        "      categorical_cols.append(i)\r\n",
        "    else:\r\n",
        "      numerical_cols.append(i)\r\n",
        "  print(\"Categorical columns : \",categorical_cols)\r\n",
        "  print(\"Numerical columns : \",numerical_cols)\r\n",
        "  return categorical_cols,numerical_cols"
      ],
      "execution_count": null,
      "outputs": []
    },
    {
      "cell_type": "code",
      "metadata": {
        "id": "ppReFpJVtT_5"
      },
      "source": [
        "def categorical_encoding(categorical_cols, ohe):\r\n",
        "  categorical_ohe = pd.DataFrame()\r\n",
        "  cat_length = dict({})\r\n",
        "  for i in categorical_cols:\r\n",
        "    each_cat = df[[i]]\r\n",
        "    index = pd.isna(each_cat).to_numpy()\r\n",
        "    each_cat = each_cat.dropna()\r\n",
        "    each_cat_ohe = pd.DataFrame(ohe.fit_transform(each_cat),columns=ohe.categories_[0])\r\n",
        "    cat_length[i] = len(each_cat_ohe.columns)\r\n",
        "    nanrow = df[[i]].iloc[index]\r\n",
        "    for i in range(len(nanrow)):\r\n",
        "      line = pd.DataFrame(columns=each_cat_ohe.columns, index=[nanrow.index[i]])\r\n",
        "      each_cat_ohe = each_cat_ohe.append(line, ignore_index=False)\r\n",
        "      each_cat_ohe = each_cat_ohe.sort_index().reset_index(drop=True)\r\n",
        "    categorical_ohe = pd.concat([categorical_ohe,each_cat_ohe],axis=1)\r\n",
        "  return categorical_ohe, cat_length"
      ],
      "execution_count": null,
      "outputs": []
    },
    {
      "cell_type": "code",
      "metadata": {
        "id": "Gcq5r_UEtXkc"
      },
      "source": [
        "def numerical_transformation(numerical_cols,scaler):\r\n",
        "  numerical_df = df[numerical_cols]\r\n",
        "  scaled_data = scaler.fit_transform(numerical_df)\r\n",
        "  df_numerical= pd.DataFrame(scaled_data,columns=numerical_cols)\r\n",
        "  return df_numerical"
      ],
      "execution_count": null,
      "outputs": []
    },
    {
      "cell_type": "code",
      "metadata": {
        "colab": {
          "base_uri": "https://localhost:8080/"
        },
        "id": "QJi36Ng9pIKz",
        "outputId": "b4fd48a9-6e78-41dc-ceff-e9ba3282a181"
      },
      "source": [
        "categorical_cols,numerical_cols = separate_columns(df)\r\n",
        "ohe = OneHotEncoder(sparse=False)\r\n",
        "scaler = preprocessing.MinMaxScaler(feature_range = (0,1))\r\n",
        "df_categorical, cat_length = categorical_encoding(categorical_cols, ohe)\r\n",
        "df_numerical = numerical_transformation(numerical_cols, scaler)\r\n",
        "df_transformed = pd.concat([df_numerical,df_categorical],axis=1)"
      ],
      "execution_count": null,
      "outputs": [
        {
          "output_type": "stream",
          "text": [
            "All columns :  {'P_PARTKEY': dtype('float64'), 'P_SIZE': dtype('float64'), 'P_RETAILPRICE': dtype('float64'), 'P_BRAND': dtype('O')}\n",
            "Categorical columns :  ['P_BRAND']\n",
            "Numerical columns :  ['P_PARTKEY', 'P_SIZE', 'P_RETAILPRICE']\n"
          ],
          "name": "stdout"
        }
      ]
    },
    {
      "cell_type": "code",
      "metadata": {
        "id": "kwEJkcjWAcGu"
      },
      "source": [
        "X_train, X_test = train_test_split(df_transformed, test_size=0.3)"
      ],
      "execution_count": null,
      "outputs": []
    },
    {
      "cell_type": "code",
      "metadata": {
        "id": "j3ofs_XtFL1n",
        "colab": {
          "base_uri": "https://localhost:8080/"
        },
        "outputId": "1f4619d2-0275-4408-cab8-22a41ae66a85"
      },
      "source": [
        "neighbors = [3,5,7,10,12,15,17,20]\r\n",
        "for n in neighbors:\r\n",
        "  print(\"neighbors : \",n)\r\n",
        "  knn = KNNImputer(n_neighbors=n, add_indicator=True)\r\n",
        "  #print(X_train.isna().sum())\r\n",
        "  knn.fit(X_train)\r\n",
        "  #pd.DataFrame(knn.transform(X_train))\r\n",
        "  #print(X_test.isna().sum())\r\n",
        "  NanRowIndex = np.where(np.isnan(np.sum(X_test.to_numpy(),axis=1)))\r\n",
        "  total_cols = len(df_transformed.columns.to_numpy())\r\n",
        "  num_cols = len(numerical_cols)\r\n",
        "  pred_df = pd.DataFrame(knn.transform(X_test)).iloc[NanRowIndex]\r\n",
        "  pred_df = pred_df.iloc[:,0:total_cols]\r\n",
        "  pred_df.columns = df_transformed.columns\r\n",
        "  corrupt_df = df.iloc[(X_test.iloc[NanRowIndex]).index]\r\n",
        "  org_df = df_org.iloc[(X_test.iloc[NanRowIndex]).index]\r\n",
        "  #pred_df\r\n",
        "  descaled_value = scaler.inverse_transform(pred_df.iloc[:,0:num_cols])\r\n",
        "  pred_df.iloc[:,0:num_cols] = descaled_value\r\n",
        "  prev_cols = num_cols\r\n",
        "  for j in categorical_cols:\r\n",
        "    pred_df[[j]] = ''\r\n",
        "    next_cols = prev_cols + cat_length[j]\r\n",
        "    ohe_decoded_value = ohe.inverse_transform(pred_df.iloc[:,prev_cols:next_cols])\r\n",
        "    pred_df[j]= ohe_decoded_value\r\n",
        "    prev_cols = next_cols\r\n",
        "  pred_df = pred_df[df.columns]\r\n",
        "  break\r\n",
        "  "
      ],
      "execution_count": null,
      "outputs": [
        {
          "output_type": "stream",
          "text": [
            "neighbors :  3\n",
            "     P_PARTKEY  P_SIZE  P_RETAILPRICE   P_BRAND\n",
            "4          NaN    15.0         905.00  Brand#32\n",
            "120      121.0    13.0            NaN  Brand#14\n",
            "71        72.0     NaN         972.07  Brand#23\n",
            "     P_PARTKEY  P_SIZE  P_RETAILPRICE   P_BRAND\n",
            "4          NaN    15.0         905.00  Brand#32\n",
            "120      121.0    13.0            NaN  Brand#14\n",
            "71        72.0     NaN         972.07  Brand#23\n"
          ],
          "name": "stdout"
        }
      ]
    },
    {
      "cell_type": "code",
      "metadata": {
        "colab": {
          "base_uri": "https://localhost:8080/",
          "height": 162
        },
        "id": "-W3yeE3WG2tx",
        "outputId": "1694fc36-5663-4bda-8283-200cff488c1c"
      },
      "source": [
        "NanRowIndex = np.where(np.isnan(np.sum(X_test.to_numpy(),axis=1)))\r\n",
        "total_cols = len(df_transformed.columns.to_numpy())\r\n",
        "num_cols = len(numerical_cols)\r\n",
        "pred_df = pd.DataFrame(knn.transform(X_test)).iloc[NanRowIndex]\r\n",
        "pred_df = pred_df.iloc[:,0:total_cols]\r\n",
        "pred_df.columns = df_transformed.columns\r\n",
        "pred_df"
      ],
      "execution_count": null,
      "outputs": [
        {
          "output_type": "execute_result",
          "data": {
            "text/html": [
              "<div>\n",
              "<style scoped>\n",
              "    .dataframe tbody tr th:only-of-type {\n",
              "        vertical-align: middle;\n",
              "    }\n",
              "\n",
              "    .dataframe tbody tr th {\n",
              "        vertical-align: top;\n",
              "    }\n",
              "\n",
              "    .dataframe thead th {\n",
              "        text-align: right;\n",
              "    }\n",
              "</style>\n",
              "<table border=\"1\" class=\"dataframe\">\n",
              "  <thead>\n",
              "    <tr style=\"text-align: right;\">\n",
              "      <th></th>\n",
              "      <th>P_PARTKEY</th>\n",
              "      <th>P_SIZE</th>\n",
              "      <th>P_RETAILPRICE</th>\n",
              "      <th>Brand#11</th>\n",
              "      <th>Brand#12</th>\n",
              "      <th>Brand#13</th>\n",
              "      <th>Brand#14</th>\n",
              "      <th>Brand#15</th>\n",
              "      <th>Brand#21</th>\n",
              "      <th>Brand#22</th>\n",
              "      <th>Brand#23</th>\n",
              "      <th>Brand#24</th>\n",
              "      <th>Brand#25</th>\n",
              "      <th>Brand#31</th>\n",
              "      <th>Brand#32</th>\n",
              "      <th>Brand#33</th>\n",
              "      <th>Brand#34</th>\n",
              "      <th>Brand#35</th>\n",
              "      <th>Brand#41</th>\n",
              "      <th>Brand#42</th>\n",
              "      <th>Brand#43</th>\n",
              "      <th>Brand#44</th>\n",
              "      <th>Brand#45</th>\n",
              "      <th>Brand#51</th>\n",
              "      <th>Brand#52</th>\n",
              "      <th>Brand#53</th>\n",
              "      <th>Brand#54</th>\n",
              "      <th>Brand#55</th>\n",
              "    </tr>\n",
              "  </thead>\n",
              "  <tbody>\n",
              "    <tr>\n",
              "      <th>4261</th>\n",
              "      <td>0.160624</td>\n",
              "      <td>0.285714</td>\n",
              "      <td>0.003339</td>\n",
              "      <td>0.0</td>\n",
              "      <td>0.0</td>\n",
              "      <td>0.0</td>\n",
              "      <td>0.0</td>\n",
              "      <td>0.0</td>\n",
              "      <td>0.0</td>\n",
              "      <td>0.0</td>\n",
              "      <td>0.0</td>\n",
              "      <td>0.0</td>\n",
              "      <td>0.0</td>\n",
              "      <td>0.0</td>\n",
              "      <td>1.0</td>\n",
              "      <td>0.0</td>\n",
              "      <td>0.0</td>\n",
              "      <td>0.0</td>\n",
              "      <td>0.0</td>\n",
              "      <td>0.0</td>\n",
              "      <td>0.0</td>\n",
              "      <td>0.0</td>\n",
              "      <td>0.0</td>\n",
              "      <td>0.0</td>\n",
              "      <td>0.0</td>\n",
              "      <td>0.0</td>\n",
              "      <td>0.0</td>\n",
              "      <td>0.0</td>\n",
              "    </tr>\n",
              "    <tr>\n",
              "      <th>48973</th>\n",
              "      <td>0.000600</td>\n",
              "      <td>0.244898</td>\n",
              "      <td>0.343578</td>\n",
              "      <td>0.0</td>\n",
              "      <td>0.0</td>\n",
              "      <td>0.0</td>\n",
              "      <td>1.0</td>\n",
              "      <td>0.0</td>\n",
              "      <td>0.0</td>\n",
              "      <td>0.0</td>\n",
              "      <td>0.0</td>\n",
              "      <td>0.0</td>\n",
              "      <td>0.0</td>\n",
              "      <td>0.0</td>\n",
              "      <td>0.0</td>\n",
              "      <td>0.0</td>\n",
              "      <td>0.0</td>\n",
              "      <td>0.0</td>\n",
              "      <td>0.0</td>\n",
              "      <td>0.0</td>\n",
              "      <td>0.0</td>\n",
              "      <td>0.0</td>\n",
              "      <td>0.0</td>\n",
              "      <td>0.0</td>\n",
              "      <td>0.0</td>\n",
              "      <td>0.0</td>\n",
              "      <td>0.0</td>\n",
              "      <td>0.0</td>\n",
              "    </tr>\n",
              "    <tr>\n",
              "      <th>50111</th>\n",
              "      <td>0.000355</td>\n",
              "      <td>0.404082</td>\n",
              "      <td>0.059324</td>\n",
              "      <td>0.0</td>\n",
              "      <td>0.0</td>\n",
              "      <td>0.0</td>\n",
              "      <td>0.0</td>\n",
              "      <td>0.0</td>\n",
              "      <td>0.0</td>\n",
              "      <td>0.0</td>\n",
              "      <td>1.0</td>\n",
              "      <td>0.0</td>\n",
              "      <td>0.0</td>\n",
              "      <td>0.0</td>\n",
              "      <td>0.0</td>\n",
              "      <td>0.0</td>\n",
              "      <td>0.0</td>\n",
              "      <td>0.0</td>\n",
              "      <td>0.0</td>\n",
              "      <td>0.0</td>\n",
              "      <td>0.0</td>\n",
              "      <td>0.0</td>\n",
              "      <td>0.0</td>\n",
              "      <td>0.0</td>\n",
              "      <td>0.0</td>\n",
              "      <td>0.0</td>\n",
              "      <td>0.0</td>\n",
              "      <td>0.0</td>\n",
              "    </tr>\n",
              "  </tbody>\n",
              "</table>\n",
              "</div>"
            ],
            "text/plain": [
              "       P_PARTKEY    P_SIZE  P_RETAILPRICE  ...  Brand#53  Brand#54  Brand#55\n",
              "4261    0.160624  0.285714       0.003339  ...       0.0       0.0       0.0\n",
              "48973   0.000600  0.244898       0.343578  ...       0.0       0.0       0.0\n",
              "50111   0.000355  0.404082       0.059324  ...       0.0       0.0       0.0\n",
              "\n",
              "[3 rows x 28 columns]"
            ]
          },
          "metadata": {
            "tags": []
          },
          "execution_count": 9
        }
      ]
    },
    {
      "cell_type": "code",
      "metadata": {
        "id": "DkHzyOT-as_i"
      },
      "source": [
        "descaled_value = scaler.inverse_transform(pred_df.iloc[:,0:num_cols])\r\n",
        "pred_df.iloc[:,0:num_cols] = descaled_value"
      ],
      "execution_count": null,
      "outputs": []
    },
    {
      "cell_type": "code",
      "metadata": {
        "id": "683q-000Uqoq"
      },
      "source": [
        "prev_cols = num_cols\r\n",
        "for j in categorical_cols:\r\n",
        "  pred_df[[j]] = ''\r\n",
        "  next_cols = prev_cols + cat_length[j]\r\n",
        "  ohe_decoded_value = ohe.inverse_transform(pred_df.iloc[:,prev_cols:next_cols])\r\n",
        "  pred_df[j]= ohe_decoded_value\r\n",
        "  prev_cols = next_cols"
      ],
      "execution_count": null,
      "outputs": []
    },
    {
      "cell_type": "code",
      "metadata": {
        "colab": {
          "base_uri": "https://localhost:8080/",
          "height": 142
        },
        "id": "7cg4RTI6c5ia",
        "outputId": "aa0b8e37-7007-4435-b1c1-f62ad90f5f0e"
      },
      "source": [
        "corrupt_df = df.iloc[(X_test.iloc[NanRowIndex]).index]\r\n",
        "corrupt_df"
      ],
      "execution_count": null,
      "outputs": [
        {
          "output_type": "execute_result",
          "data": {
            "text/html": [
              "<div>\n",
              "<style scoped>\n",
              "    .dataframe tbody tr th:only-of-type {\n",
              "        vertical-align: middle;\n",
              "    }\n",
              "\n",
              "    .dataframe tbody tr th {\n",
              "        vertical-align: top;\n",
              "    }\n",
              "\n",
              "    .dataframe thead th {\n",
              "        text-align: right;\n",
              "    }\n",
              "</style>\n",
              "<table border=\"1\" class=\"dataframe\">\n",
              "  <thead>\n",
              "    <tr style=\"text-align: right;\">\n",
              "      <th></th>\n",
              "      <th>P_PARTKEY</th>\n",
              "      <th>P_SIZE</th>\n",
              "      <th>P_RETAILPRICE</th>\n",
              "      <th>P_BRAND</th>\n",
              "    </tr>\n",
              "  </thead>\n",
              "  <tbody>\n",
              "    <tr>\n",
              "      <th>4</th>\n",
              "      <td>NaN</td>\n",
              "      <td>15.0</td>\n",
              "      <td>905.00</td>\n",
              "      <td>Brand#32</td>\n",
              "    </tr>\n",
              "    <tr>\n",
              "      <th>120</th>\n",
              "      <td>121.0</td>\n",
              "      <td>13.0</td>\n",
              "      <td>NaN</td>\n",
              "      <td>Brand#14</td>\n",
              "    </tr>\n",
              "    <tr>\n",
              "      <th>71</th>\n",
              "      <td>72.0</td>\n",
              "      <td>NaN</td>\n",
              "      <td>972.07</td>\n",
              "      <td>Brand#23</td>\n",
              "    </tr>\n",
              "  </tbody>\n",
              "</table>\n",
              "</div>"
            ],
            "text/plain": [
              "     P_PARTKEY  P_SIZE  P_RETAILPRICE   P_BRAND\n",
              "4          NaN    15.0         905.00  Brand#32\n",
              "120      121.0    13.0            NaN  Brand#14\n",
              "71        72.0     NaN         972.07  Brand#23"
            ]
          },
          "metadata": {
            "tags": []
          },
          "execution_count": 12
        }
      ]
    },
    {
      "cell_type": "code",
      "metadata": {
        "colab": {
          "base_uri": "https://localhost:8080/",
          "height": 142
        },
        "id": "xsqNMyD-HVnu",
        "outputId": "cea0c1b1-e1fe-4258-f99e-efa1e4d4275d"
      },
      "source": [
        "org_df = df_org.iloc[(X_test.iloc[NanRowIndex]).index]\r\n",
        "org_df"
      ],
      "execution_count": null,
      "outputs": [
        {
          "output_type": "execute_result",
          "data": {
            "text/html": [
              "<div>\n",
              "<style scoped>\n",
              "    .dataframe tbody tr th:only-of-type {\n",
              "        vertical-align: middle;\n",
              "    }\n",
              "\n",
              "    .dataframe tbody tr th {\n",
              "        vertical-align: top;\n",
              "    }\n",
              "\n",
              "    .dataframe thead th {\n",
              "        text-align: right;\n",
              "    }\n",
              "</style>\n",
              "<table border=\"1\" class=\"dataframe\">\n",
              "  <thead>\n",
              "    <tr style=\"text-align: right;\">\n",
              "      <th></th>\n",
              "      <th>P_PARTKEY</th>\n",
              "      <th>P_SIZE</th>\n",
              "      <th>P_RETAILPRICE</th>\n",
              "      <th>P_BRAND</th>\n",
              "    </tr>\n",
              "  </thead>\n",
              "  <tbody>\n",
              "    <tr>\n",
              "      <th>4</th>\n",
              "      <td>5</td>\n",
              "      <td>15</td>\n",
              "      <td>905.00</td>\n",
              "      <td>Brand#32</td>\n",
              "    </tr>\n",
              "    <tr>\n",
              "      <th>120</th>\n",
              "      <td>121</td>\n",
              "      <td>13</td>\n",
              "      <td>1021.12</td>\n",
              "      <td>Brand#14</td>\n",
              "    </tr>\n",
              "    <tr>\n",
              "      <th>71</th>\n",
              "      <td>72</td>\n",
              "      <td>25</td>\n",
              "      <td>972.07</td>\n",
              "      <td>Brand#23</td>\n",
              "    </tr>\n",
              "  </tbody>\n",
              "</table>\n",
              "</div>"
            ],
            "text/plain": [
              "     P_PARTKEY  P_SIZE  P_RETAILPRICE   P_BRAND\n",
              "4            5      15         905.00  Brand#32\n",
              "120        121      13        1021.12  Brand#14\n",
              "71          72      25         972.07  Brand#23"
            ]
          },
          "metadata": {
            "tags": []
          },
          "execution_count": 13
        }
      ]
    },
    {
      "cell_type": "code",
      "metadata": {
        "colab": {
          "base_uri": "https://localhost:8080/",
          "height": 142
        },
        "id": "2k6YJ7nMvdVi",
        "outputId": "c20a3871-2a42-41c4-8fe0-d2b24c453708"
      },
      "source": [
        "pred_df = pred_df[df.columns]\r\n",
        "pred_df"
      ],
      "execution_count": null,
      "outputs": [
        {
          "output_type": "execute_result",
          "data": {
            "text/html": [
              "<div>\n",
              "<style scoped>\n",
              "    .dataframe tbody tr th:only-of-type {\n",
              "        vertical-align: middle;\n",
              "    }\n",
              "\n",
              "    .dataframe tbody tr th {\n",
              "        vertical-align: top;\n",
              "    }\n",
              "\n",
              "    .dataframe thead th {\n",
              "        text-align: right;\n",
              "    }\n",
              "</style>\n",
              "<table border=\"1\" class=\"dataframe\">\n",
              "  <thead>\n",
              "    <tr style=\"text-align: right;\">\n",
              "      <th></th>\n",
              "      <th>P_PARTKEY</th>\n",
              "      <th>P_SIZE</th>\n",
              "      <th>P_RETAILPRICE</th>\n",
              "      <th>P_BRAND</th>\n",
              "    </tr>\n",
              "  </thead>\n",
              "  <tbody>\n",
              "    <tr>\n",
              "      <th>4261</th>\n",
              "      <td>32125.65</td>\n",
              "      <td>15.0</td>\n",
              "      <td>905.0000</td>\n",
              "      <td>Brand#32</td>\n",
              "    </tr>\n",
              "    <tr>\n",
              "      <th>48973</th>\n",
              "      <td>121.00</td>\n",
              "      <td>13.0</td>\n",
              "      <td>1312.6035</td>\n",
              "      <td>Brand#14</td>\n",
              "    </tr>\n",
              "    <tr>\n",
              "      <th>50111</th>\n",
              "      <td>72.00</td>\n",
              "      <td>20.8</td>\n",
              "      <td>972.0700</td>\n",
              "      <td>Brand#23</td>\n",
              "    </tr>\n",
              "  </tbody>\n",
              "</table>\n",
              "</div>"
            ],
            "text/plain": [
              "       P_PARTKEY  P_SIZE  P_RETAILPRICE   P_BRAND\n",
              "4261    32125.65    15.0       905.0000  Brand#32\n",
              "48973     121.00    13.0      1312.6035  Brand#14\n",
              "50111      72.00    20.8       972.0700  Brand#23"
            ]
          },
          "metadata": {
            "tags": []
          },
          "execution_count": 14
        }
      ]
    }
  ]
}